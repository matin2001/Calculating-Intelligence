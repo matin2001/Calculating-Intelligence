{
  "nbformat": 4,
  "nbformat_minor": 0,
  "metadata": {
    "colab": {
      "provenance": []
    },
    "kernelspec": {
      "name": "python3",
      "display_name": "Python 3"
    },
    "language_info": {
      "name": "python"
    }
  },
  "cells": [
    {
      "cell_type": "code",
      "source": [
        "import numpy as np\n",
        "\n",
        "def target_equation(x, i):\n",
        "  if i == 0:\n",
        "    return 2*x - 4\n",
        "  if i == 1:\n",
        "    return x**2-8*x+4\n",
        "  if i == 2:\n",
        "    return 4*x**3-5*x**2+x-1\n",
        "  if i == 3:\n",
        "    return 186*x**3-7.22*x**2+15.5*x-13.2\n",
        "\n",
        "# Define the parameters for the genetic algorithm\n",
        "population_size = 100          # Number of individuals in the population\n",
        "chromosome_length = 10         # Length of each individual's chromosome\n",
        "mutation_rate = 0.01           # Probability of mutation for each bit in the chromosome\n",
        "crossover_rate = 0.8           # Probability of crossover between two parents\n",
        "generations = 500              # Number of generations\n",
        "\n",
        "# Function to initialize the population\n",
        "def initialize_population(size, length):\n",
        "    return np.random.randint(2, size=(size, length))\n",
        "\n",
        "# Decoding binary chromosome using Gray encoding\n",
        "def gray_to_binary(gray):\n",
        "    binary = [gray[0]]\n",
        "    for i in range(1, len(gray)):\n",
        "        binary.append(gray[i] ^ gray[i-1])\n",
        "    return np.array(binary)\n",
        "\n",
        "# Function to decode binary chromosome to decimal\n",
        "def binary_to_decimal(binary):\n",
        "    return int(''.join(map(str, binary)), 2)\n",
        "\n",
        "# Function to evaluate fitness based on the target equation\n",
        "def fitness(chromosome,i):\n",
        "    decoded_chromosome = binary_to_decimal(gray_to_binary(chromosome))\n",
        "    return 1 / (1 + abs(target_equation(decoded_chromosome, i)))\n",
        "\n",
        "# Function for tournament selection\n",
        "def tournament_selection(population, fitness_values):\n",
        "    selected_indices = np.random.choice(len(population), size=2)\n",
        "    return population[selected_indices[np.argmax(fitness_values[selected_indices])]]\n",
        "\n",
        "# Crossover\n",
        "def crossover(parent1, parent2):\n",
        "    crossover_point = np.random.randint(len(parent1))\n",
        "    child1 = np.concatenate((parent1[:crossover_point], parent2[crossover_point:]))\n",
        "    child2 = np.concatenate((parent2[:crossover_point], parent1[crossover_point:]))\n",
        "    return child1, child2\n",
        "\n",
        "# Mutation\n",
        "def mutate(child):\n",
        "    mutation_points = np.random.rand(len(child)) < mutation_rate\n",
        "    child[mutation_points] = 1 - child[mutation_points]\n",
        "    return child\n",
        "\n",
        "# Main Program\n",
        "equations = [\"2*x - 4\", \"x**2-8*x+4\", \"4*x**3-5*x**2+x-1\", \"186*x**3-7.22*x**2+15.5*x-13.2\"]\n",
        "for j in range(4):\n",
        "  population = initialize_population(population_size, chromosome_length)\n",
        "  for generation in range(generations):\n",
        "      fitness_values = np.array([fitness(chromosome, j) for chromosome in population])\n",
        "      parents = [tournament_selection(population, fitness_values) for _ in range(population_size)]\n",
        "      offspring = []\n",
        "\n",
        "      for i in range(0, population_size, 2):\n",
        "          parent1, parent2 = parents[i], parents[i+1]\n",
        "          child1, child2 = crossover(parent1, parent2)\n",
        "          child1 = mutate(child1)\n",
        "          child2 = mutate(child2)\n",
        "          offspring.extend([child1, child2])\n",
        "\n",
        "      population = np.array(offspring)\n",
        "\n",
        "  # Best solution in the final population\n",
        "  best_solution = population[np.argmax(fitness_values)]\n",
        "\n",
        "  # Decoding the Result\n",
        "  decoded_solution = binary_to_decimal(gray_to_binary(best_solution))\n",
        "  print(f\"For Equation {equations[j]}\")\n",
        "  print(f\"The best solution is x = {decoded_solution}, with fitness {fitness(best_solution, j)}\")\n",
        "  print(\"-------------------------------------------------\")\n"
      ],
      "metadata": {
        "id": "_qmbaZBliQ11",
        "colab": {
          "base_uri": "https://localhost:8080/"
        },
        "outputId": "168c8bcc-e7ce-4358-f6e1-fdb5c155a4e3"
      },
      "execution_count": 39,
      "outputs": [
        {
          "output_type": "stream",
          "name": "stdout",
          "text": [
            "For Equation 2*x - 4\n",
            "The best solution is x = 2, with fitness 1.0\n",
            "-------------------------------------------------\n",
            "For Equation x**2-8*x+4\n",
            "The best solution is x = 4, with fitness 0.07692307692307693\n",
            "-------------------------------------------------\n",
            "For Equation 4*x**3-5*x**2+x-1\n",
            "The best solution is x = 0, with fitness 0.5\n",
            "-------------------------------------------------\n",
            "For Equation 186*x**3-7.22*x**2+15.5*x-13.2\n",
            "The best solution is x = 0, with fitness 0.07042253521126761\n",
            "-------------------------------------------------\n"
          ]
        }
      ]
    },
    {
      "cell_type": "code",
      "source": [],
      "metadata": {
        "id": "fvw_jd_23w0O"
      },
      "execution_count": null,
      "outputs": []
    }
  ]
}