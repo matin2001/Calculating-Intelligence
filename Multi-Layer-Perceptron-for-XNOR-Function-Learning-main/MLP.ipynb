{
  "cells": [
    {
      "cell_type": "code",
      "execution_count": 1,
      "metadata": {
        "id": "4tcojxsVJ2IM"
      },
      "outputs": [],
      "source": [
        "# Add Libraries\n",
        "# Source 1 : https://www.geeksforgeeks.org/implementation-of-perceptron-algorithm-for-xnor-logic-gate-with-2-bit-binary-input/\n",
        "# Source 2 : https://www.geeksforgeeks.org/implementation-of-artificial-neural-network-for-xnor-logic-gate-with-2-bit-binary-input/\n",
        "# Source 3 : I got help from Chat.gpt in the training part\n",
        "import numpy as np"
      ]
    },
    {
      "cell_type": "code",
      "execution_count": 8,
      "metadata": {
        "id": "zoD_4tosKETM"
      },
      "outputs": [],
      "source": [
        "# Activation Functions\n",
        "def sigmoid(x):\n",
        "    return 1 / (1 + np.exp(-x))\n",
        "\n",
        "def sigmoid_d(x):\n",
        "    return x * (1 - x)"
      ]
    },
    {
      "cell_type": "code",
      "execution_count": 3,
      "metadata": {
        "id": "ioC4cQ0uMaUk"
      },
      "outputs": [],
      "source": [
        "# Training Data\n",
        "training_data = np.array([[0, 0, 1],\n",
        "                          [0, 1, 0],\n",
        "                          [1, 0, 0],\n",
        "                          [1, 1, 1]])"
      ]
    },
    {
      "cell_type": "code",
      "execution_count": 13,
      "metadata": {
        "id": "_hiHC8H-ODmM"
      },
      "outputs": [],
      "source": [
        "# random weight\n",
        "np.random.seed(0)\n",
        "input_weights = np.random.uniform(size=(2, 4))\n",
        "output_weights = np.random.uniform(size=(4, 1))\n",
        "\n",
        "Periods = 10000\n",
        "learning_rate = 0.1"
      ]
    },
    {
      "cell_type": "code",
      "execution_count": 17,
      "metadata": {
        "id": "wQMxJvLzOUjq"
      },
      "outputs": [],
      "source": [
        "# Training\n",
        "for p in range(Periods):\n",
        "    input_layer = training_data[:, :2]\n",
        "    hidden_layer_input = np.dot(input_layer, input_weights)\n",
        "    hidden_layer_output = sigmoid(hidden_layer_input)\n",
        "\n",
        "    output_layer_input = np.dot(hidden_layer_output, output_weights)\n",
        "    output_layer_output = sigmoid(output_layer_input)\n",
        "\n",
        "    error = training_data[:, 2].reshape(-1, 1) - output_layer_output\n",
        "\n",
        "    delta_output = error * sigmoid_d(output_layer_output)\n",
        "    error_hidden_layer = delta_output.dot(output_weights.T)\n",
        "    delta_hidden_layer = error_hidden_layer * sigmoid_d(hidden_layer_output)\n",
        "\n",
        "    output_weights += hidden_layer_output.T.dot(delta_output) * learning_rate\n",
        "    input_weights += input_layer.T.dot(delta_hidden_layer) * learning_rate"
      ]
    },
    {
      "cell_type": "code",
      "execution_count": 18,
      "metadata": {
        "colab": {
          "base_uri": "https://localhost:8080/"
        },
        "id": "oLZZd_TfDgzY",
        "outputId": "022d484e-32a0-4207-962e-1e4864c55023"
      },
      "outputs": [
        {
          "name": "stdout",
          "output_type": "stream",
          "text": [
            "Input: [0, 0], Predicted Output: 1\n",
            "Input: [0, 1], Predicted Output: 0\n",
            "Input: [1, 0], Predicted Output: 0\n",
            "Input: [1, 1], Predicted Output: 1\n"
          ]
        }
      ],
      "source": [
        "# Test\n",
        "def testFunc(input_data):\n",
        "    hidden_layer_input = np.dot(input_data, input_weights)\n",
        "    hidden_layer_output = sigmoid(hidden_layer_input)\n",
        "    output_layer_input = np.dot(hidden_layer_output, output_weights)\n",
        "    predicted_output = sigmoid(output_layer_input)\n",
        "    print(f\"Input: {input_data}, Predicted Output: {int(predicted_output > 0.5)}\")\n",
        "\n",
        "\n",
        "testFunc([0, 0])\n",
        "testFunc([0, 1])\n",
        "testFunc([1, 0])\n",
        "testFunc([1, 1])\n",
        "\n"
      ]
    }
  ],
  "metadata": {
    "colab": {
      "provenance": []
    },
    "kernelspec": {
      "display_name": "Python 3",
      "name": "python3"
    },
    "language_info": {
      "name": "python"
    }
  },
  "nbformat": 4,
  "nbformat_minor": 0
}
